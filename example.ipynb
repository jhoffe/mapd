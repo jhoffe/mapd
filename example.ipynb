{
 "cells": [
  {
   "cell_type": "code",
   "execution_count": 47,
   "metadata": {},
   "outputs": [
    {
     "name": "stdout",
     "output_type": "stream",
     "text": [
      "The autoreload extension is already loaded. To reload it, use:\n",
      "  %reload_ext autoreload\n"
     ]
    }
   ],
   "source": [
    "from torch.utils.data import DataLoader\n",
    "\n",
    "import mapd\n",
    "import torchvision\n",
    "from torchvision import transforms\n",
    "\n",
    "from mapd.probes.make_probe_suites import make_probe_suites\n",
    "from mapd.probes.utils.idx_dataset import IDXDataset\n",
    "from mapd.utils.make_dataloaders import make_dataloaders\n",
    "from mapd.classifiers.make_mapd_classifier import make_mapd_classifier\n",
    "%load_ext autoreload\n",
    "%autoreload 2"
   ]
  },
  {
   "cell_type": "code",
   "execution_count": 61,
   "metadata": {},
   "outputs": [
    {
     "name": "stdout",
     "output_type": "stream",
     "text": [
      "Downloading https://www.itl.nist.gov/iaui/vip/cs_links/EMNIST/gzip.zip to data-emnist/EMNIST/raw/gzip.zip\n"
     ]
    },
    {
     "name": "stderr",
     "output_type": "stream",
     "text": [
      "100%|██████████| 561753746/561753746 [00:45<00:00, 12385864.15it/s]\n"
     ]
    },
    {
     "name": "stdout",
     "output_type": "stream",
     "text": [
      "Extracting data-emnist/EMNIST/raw/gzip.zip to data-emnist/EMNIST/raw\n"
     ]
    },
    {
     "data": {
      "text/plain": "Dataset EMNIST\n    Number of datapoints: 124800\n    Root location: data-emnist\n    Split: Train"
     },
     "execution_count": 61,
     "metadata": {},
     "output_type": "execute_result"
    }
   ],
   "source": [
    "MNIST_ROOT = \"data-emnist\"\n",
    "torchvision.datasets.EMNIST(root=MNIST_ROOT, download=True, split=\"letters\")"
   ]
  },
  {
   "cell_type": "code",
   "execution_count": 62,
   "metadata": {},
   "outputs": [],
   "source": [
    "from torchvision.datasets import MNIST"
   ]
  },
  {
   "cell_type": "code",
   "execution_count": 78,
   "metadata": {},
   "outputs": [],
   "source": [
    "from torch import nn\n",
    "\n",
    "\n",
    "class Net(nn.Module):\n",
    "    def __init__(self, num_labels: int = 10):\n",
    "        super(Net, self).__init__()\n",
    "        self.conv1 = nn.Conv2d(1, 10, kernel_size=5)\n",
    "        self.conv2 = nn.Conv2d(10, 20, kernel_size=5)\n",
    "        self.conv2_drop = nn.Dropout2d()\n",
    "        self.fc1 = nn.Linear(320, 50)\n",
    "        self.fc2 = nn.Linear(50, num_labels)\n",
    "\n",
    "    def forward(self, x):\n",
    "        x = F.relu(F.max_pool2d(self.conv1(x), 2))\n",
    "        x = F.relu(F.max_pool2d(self.conv2_drop(self.conv2(x)), 2))\n",
    "        x = x.view(-1, 320)\n",
    "        x = F.relu(self.fc1(x))\n",
    "        x = F.dropout(x, training=self.training)\n",
    "        x = self.fc2(x)\n",
    "        return x\n",
    "\n",
    "\n",
    "model = Net(num_labels=26)"
   ]
  },
  {
   "cell_type": "code",
   "execution_count": 88,
   "metadata": {},
   "outputs": [],
   "source": [
    "import numpy as np\n",
    "import lightning as L\n",
    "from torch.nn import functional as F\n",
    "from torch.optim import SGD\n",
    "import torch\n",
    "\n",
    "\n",
    "class MNISTModule(mapd.MAPDModule):\n",
    "    def __init__(\n",
    "            self,\n",
    "            max_epochs: int = 10,\n",
    "            lr: float = 0.05,\n",
    "            momentum: float = 0.9,\n",
    "            weight_decay: float = 0.0005\n",
    "    ):\n",
    "        super().__init__()\n",
    "        self.model = model\n",
    "\n",
    "        self.max_epochs = max_epochs\n",
    "        self.lr = lr\n",
    "        self.momentum = momentum\n",
    "        self.weight_decay = weight_decay\n",
    "\n",
    "        self.save_hyperparameters(ignore=[\"model\"])\n",
    "\n",
    "    def mapd_settings(self):\n",
    "        return {\n",
    "            \"proxy_metric\": \"loss\",\n",
    "            \"proxy_metric_direction\": \"minimize\",\n",
    "        }\n",
    "\n",
    "    def forward(self, x):\n",
    "        return self.model(x)\n",
    "\n",
    "    def batch_loss(self, logits, y) -> torch.Tensor:\n",
    "        return F.cross_entropy(logits, y, reduction=\"none\")\n",
    "\n",
    "    def batch_proxy_metric(self, logits, y) -> torch.Tensor:\n",
    "        return -self.batch_loss(logits, y)\n",
    "\n",
    "    def training_step(self, batch, batch_idx):\n",
    "        x, y = batch\n",
    "\n",
    "        logits = self.forward(x)\n",
    "        loss = self.batch_loss(logits, y).mean()\n",
    "        self.mapd_log(logits, y)\n",
    "\n",
    "        return loss\n",
    "\n",
    "    def validation_step(self, batch, batch_idx, dataloader_idx: int = 0):\n",
    "        x, y = batch\n",
    "\n",
    "        logits = self.forward(x)\n",
    "        loss = F.cross_entropy(logits, y)\n",
    "        self.mapd_log(logits, y)\n",
    "\n",
    "        return loss\n",
    "\n",
    "    def configure_optimizers(self):\n",
    "        optimizer = SGD(\n",
    "            self.parameters(),\n",
    "            lr=self.lr\n",
    "        )\n",
    "\n",
    "        return {\"optimizer\": optimizer}"
   ]
  },
  {
   "cell_type": "code",
   "execution_count": null,
   "metadata": {
    "pycharm": {
     "is_executing": true
    }
   },
   "outputs": [
    {
     "name": "stderr",
     "output_type": "stream",
     "text": [
      "GPU available: False, used: False\n",
      "TPU available: False, using: 0 TPU cores\n",
      "IPU available: False, using: 0 IPUs\n",
      "HPU available: False, using: 0 HPUs\n",
      "GPU available: False, used: False\n",
      "TPU available: False, using: 0 TPU cores\n",
      "IPU available: False, using: 0 IPUs\n",
      "HPU available: False, using: 0 HPUs\n",
      "\n",
      "  | Name  | Type | Params\n",
      "-------------------------------\n",
      "0 | model | Net  | 22.7 K\n",
      "-------------------------------\n",
      "22.7 K    Trainable params\n",
      "0         Non-trainable params\n",
      "22.7 K    Total params\n",
      "0.091     Total estimated model params size (MB)\n"
     ]
    },
    {
     "data": {
      "text/plain": "Training: 0it [00:00, ?it/s]",
      "application/vnd.jupyter.widget-view+json": {
       "version_major": 2,
       "version_minor": 0,
       "model_id": "281197e7c4e6494c83bb029f3be8b033"
      }
     },
     "metadata": {},
     "output_type": "display_data"
    }
   ],
   "source": [
    "from torch.utils.data import random_split\n",
    "\n",
    "module = MNISTModule()\n",
    "\n",
    "transform = transforms.Compose([transforms.ToTensor(), transforms.Normalize((0.1307,), (0.3081,))])\n",
    "target_transform = transforms.Compose([transforms.Lambda(lambda x: x - 1)])\n",
    "mnist_test = torchvision.datasets.EMNIST(MNIST_ROOT, train=False, split=\"letters\", transform=transform, target_transform=target_transform)\n",
    "mnist_predict = torchvision.datasets.EMNIST(MNIST_ROOT, train=False, split=\"letters\", transform=transform, target_transform=target_transform)\n",
    "mnist_full = torchvision.datasets.EMNIST(MNIST_ROOT, train=True, split=\"letters\", transform=transform, target_transform=target_transform)\n",
    "mnist_train, mnist_val = random_split(mnist_full, [0.8, 0.2])\n",
    "mnist_train = IDXDataset(mnist_train)\n",
    "\n",
    "dl = DataLoader(mnist_train, batch_size=512, shuffle=True, num_workers=4, prefetch_factor=2)\n",
    "\n",
    "torch.set_float32_matmul_precision('medium')\n",
    "\n",
    "trainer_proxy = L.Trainer(accelerator=\"cpu\", max_epochs=50)\n",
    "trainer_probes = L.Trainer(accelerator=\"cpu\", max_epochs=50)\n",
    "\n",
    "# Proxy\n",
    "trainer_proxy.fit(module.as_proxies(), train_dataloaders=dl)"
   ]
  },
  {
   "cell_type": "code",
   "execution_count": null,
   "outputs": [],
   "source": [
    "probe_suite_ds = make_probe_suites(mnist_train, 10, \"proxies\", num_probes=500)"
   ],
   "metadata": {
    "collapsed": false,
    "pycharm": {
     "is_executing": true
    }
   }
  },
  {
   "cell_type": "code",
   "execution_count": null,
   "outputs": [],
   "source": [
    "dl_probes = DataLoader(mnist_train, batch_size=512, shuffle=True, num_workers=4, prefetch_factor=2)\n",
    "\n",
    "val_dataloader = DataLoader(IDXDataset(mnist_val), batch_size=512, shuffle=True, num_workers=4, prefetch_factor=2)\n",
    "val_dataloaders = make_dataloaders([val_dataloader], probe_suite_ds)\n",
    "\n",
    "trainer_probes.fit(module.as_probes(probe_suite_ds), train_dataloaders=dl_probes, val_dataloaders=val_dataloaders)"
   ],
   "metadata": {
    "collapsed": false,
    "pycharm": {
     "is_executing": true
    }
   }
  },
  {
   "cell_type": "code",
   "execution_count": null,
   "outputs": [],
   "source": [
    "clf, label_encoder = make_mapd_classifier(\"probes\", probe_suite_ds, clf=\"xgboost_rf\")"
   ],
   "metadata": {
    "collapsed": false,
    "pycharm": {
     "is_executing": true
    }
   }
  },
  {
   "cell_type": "code",
   "execution_count": null,
   "outputs": [],
   "source": [
    "from mapd.classifiers.make_predictions import make_predictions\n",
    "\n",
    "preds = make_predictions(\"probes\", clf, label_encoder)"
   ],
   "metadata": {
    "collapsed": false,
    "pycharm": {
     "is_executing": true
    }
   }
  },
  {
   "cell_type": "code",
   "execution_count": null,
   "outputs": [],
   "source": [
    "from mapd.visualization.surface_predictions import make_surface_predictions\n",
    "import matplotlib.pyplot as plt\n",
    "\n",
    "fig = make_surface_predictions(preds, mnist_train, probe_suite=\"typical\")\n",
    "plt.show(fig)\n",
    "fig = make_surface_predictions(preds, mnist_train, probe_suite=\"atypical\")\n",
    "plt.show(fig)"
   ],
   "metadata": {
    "collapsed": false,
    "pycharm": {
     "is_executing": true
    }
   }
  },
  {
   "cell_type": "code",
   "execution_count": null,
   "outputs": [],
   "source": [
    "# Print how many of each probe suite is predicted\n",
    "from collections import Counter\n",
    "\n",
    "counts = Counter([ps for ps, _ in preds.values()])"
   ],
   "metadata": {
    "collapsed": false,
    "pycharm": {
     "is_executing": true
    }
   }
  },
  {
   "cell_type": "code",
   "execution_count": null,
   "outputs": [],
   "source": [
    "counts"
   ],
   "metadata": {
    "collapsed": false,
    "pycharm": {
     "is_executing": true
    }
   }
  },
  {
   "cell_type": "code",
   "execution_count": 60,
   "outputs": [
    {
     "data": {
      "text/plain": "55000"
     },
     "execution_count": 60,
     "metadata": {},
     "output_type": "execute_result"
    }
   ],
   "source": [
    "len(preds)"
   ],
   "metadata": {
    "collapsed": false
   }
  }
 ],
 "metadata": {
  "kernelspec": {
   "display_name": "Python 3 (ipykernel)",
   "language": "python",
   "name": "python3"
  },
  "language_info": {
   "codemirror_mode": {
    "name": "ipython",
    "version": 3
   },
   "file_extension": ".py",
   "mimetype": "text/x-python",
   "name": "python",
   "nbconvert_exporter": "python",
   "pygments_lexer": "ipython3",
   "version": "3.9.16"
  }
 },
 "nbformat": 4,
 "nbformat_minor": 1
}
